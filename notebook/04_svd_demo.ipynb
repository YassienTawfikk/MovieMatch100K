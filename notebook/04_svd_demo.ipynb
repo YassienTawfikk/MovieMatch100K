{
 "cells": [
  {
   "cell_type": "markdown",
   "metadata": {},
   "source": "# SVD Collaborative Filtering",
   "id": "5c5c25b61e92d0ea"
  },
  {
   "cell_type": "markdown",
   "metadata": {},
   "source": "## Step 1: Import Libraries",
   "id": "404b0351e43a8b09"
  },
  {
   "cell_type": "code",
   "metadata": {
    "ExecuteTime": {
     "end_time": "2025-07-24T18:06:17.780474Z",
     "start_time": "2025-07-24T18:06:16.778074Z"
    }
   },
   "source": "import pandas as pd\nimport numpy as np\nfrom src.svd import run_svd_pipeline\nfrom src.evaluation import evaluate_recommendation_svd",
   "id": "2a94686907097e40",
   "outputs": [
    {
     "name": "stdout",
     "output_type": "stream",
     "text": [
      "Directories are Found.\n"
     ]
    }
   ],
   "execution_count": 1
  },
  {
   "cell_type": "markdown",
   "metadata": {},
   "source": "## Step 2: Load and Process Data",
   "id": "192a1ba4b34274e3"
  },
  {
   "cell_type": "code",
   "metadata": {
    "ExecuteTime": {
     "end_time": "2025-07-24T18:06:17.799704Z",
     "start_time": "2025-07-24T18:06:17.784280Z"
    }
   },
   "source": [
    "train_df = pd.read_csv('../data/curated/train.csv')\n",
    "test_df = pd.read_csv('../data/curated/test.csv')\n",
    "print(train_df.head())"
   ],
   "id": "da9004a37bb21ec9",
   "outputs": [
    {
     "name": "stdout",
     "output_type": "stream",
     "text": [
      "   user_id  item_id  rating\n",
      "0        1       61       4\n",
      "1        1      189       3\n",
      "2        1       33       4\n",
      "3        1      160       4\n",
      "4        1       20       4\n"
     ]
    }
   ],
   "execution_count": 2
  },
  {
   "cell_type": "markdown",
   "metadata": {},
   "source": "## Step 3: Run SVD for a Target User",
   "id": "ab3962d5b779ddb"
  },
  {
   "cell_type": "code",
   "metadata": {
    "ExecuteTime": {
     "end_time": "2025-07-24T18:06:18.008790Z",
     "start_time": "2025-07-24T18:06:17.908563Z"
    }
   },
   "source": "target_user_id = 13\nk_movies = 5\n\nrecs, user_factors, item_factors, user_item_matrix = run_svd_pipeline(\n    user_id=target_user_id,\n    ratings_df=train_df,\n    k=k_movies\n)\n\nprint(f\"Top {k_movies} recommendations for user {target_user_id}:\")\nfor item_id, score in recs:\n    print(f\"  → Movie ID {item_id} | Predicted Rating: {score:.2f}\")",
   "id": "14a3ce412a75556b",
   "outputs": [
    {
     "name": "stdout",
     "output_type": "stream",
     "text": [
      "Top 5 recommendations for user 13:\n",
      "  → Movie ID 269 | Predicted Rating: 5.80\n",
      "  → Movie ID 286 | Predicted Rating: 4.52\n",
      "  → Movie ID 304 | Predicted Rating: 3.35\n",
      "  → Movie ID 285 | Predicted Rating: 3.34\n",
      "  → Movie ID 482 | Predicted Rating: 3.31\n"
     ]
    }
   ],
   "execution_count": 3
  },
  {
   "cell_type": "markdown",
   "metadata": {},
   "source": "## Step 4: Evaluate SVD Model",
   "id": "de61f765ef68252e"
  },
  {
   "cell_type": "code",
   "metadata": {
    "ExecuteTime": {
     "end_time": "2025-07-24T18:06:42.768672Z",
     "start_time": "2025-07-24T18:06:18.042568Z"
    }
   },
   "source": "evaluate_recommendation_svd(\n    test_df=test_df,\n    train_df=train_df,\n    user_factors=user_factors,\n    item_factors=item_factors,\n    user_item_matrix=user_item_matrix,\n    k=k_movies\n)",
   "id": "56a75926e45e4908",
   "outputs": [
    {
     "name": "stdout",
     "output_type": "stream",
     "text": [
      "Average Precision@5: 41.7815%\n",
      "Average Recall@5: 14.7475%\n"
     ]
    }
   ],
   "execution_count": 4
  }
 ],
 "metadata": {
  "kernelspec": {
   "display_name": "Python 3",
   "language": "python",
   "name": "python3"
  },
  "language_info": {
   "name": "python",
   "version": "3.9"
  }
 },
 "nbformat": 4,
 "nbformat_minor": 5
}
