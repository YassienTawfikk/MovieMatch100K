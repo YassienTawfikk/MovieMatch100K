{
 "cells": [
  {
   "metadata": {},
   "cell_type": "markdown",
   "source": "# User-Based Collaborative Filtering",
   "id": "f2f5bfcc8795a2ec"
  },
  {
   "metadata": {},
   "cell_type": "markdown",
   "source": "## Import Libraries",
   "id": "71563b8e65b1f881"
  },
  {
   "cell_type": "code",
   "id": "initial_id",
   "metadata": {
    "collapsed": true,
    "ExecuteTime": {
     "end_time": "2025-07-22T11:01:53.570716Z",
     "start_time": "2025-07-22T11:01:53.564861Z"
    }
   },
   "source": [
    "import pandas as pd\n",
    "from sklearn.metrics.pairwise import cosine_similarity\n",
    "\n",
    "from src.user_cf import get_top_k_recommendations"
   ],
   "outputs": [],
   "execution_count": 104
  },
  {
   "metadata": {},
   "cell_type": "markdown",
   "source": "## Load Train & Test Data",
   "id": "34669f8fc887d89b"
  },
  {
   "metadata": {
    "ExecuteTime": {
     "end_time": "2025-07-22T11:01:53.602979Z",
     "start_time": "2025-07-22T11:01:53.589283Z"
    }
   },
   "cell_type": "code",
   "source": [
    "# Load train data\n",
    "train = pd.read_csv(\"../data/curated/train.csv\")\n",
    "\n",
    "# Filter active users\n",
    "active_users = train[\"user_id\"].value_counts()\n",
    "active_users = active_users[active_users >= 10].index\n",
    "train = train[train[\"user_id\"].isin(active_users)]\n",
    "\n",
    "print(f\"Filtered train to {len(train)} ratings from {len(active_users)} active users.\")\n",
    "\n",
    "# Load Test Data\n",
    "test = pd.read_csv(\"../data/curated/test.csv\")\n",
    "print(f\"Test size: {test.shape}\")"
   ],
   "id": "f1cd0726c1c06721",
   "outputs": [
    {
     "name": "stdout",
     "output_type": "stream",
     "text": [
      "Filtered train to 80367 ratings from 943 active users.\n",
      "Test size: (19633, 3)\n"
     ]
    }
   ],
   "execution_count": 105
  },
  {
   "metadata": {},
   "cell_type": "markdown",
   "source": "## Build User-Item Matrix & Cosine Similarity",
   "id": "cf1cf3a11a57d32c"
  },
  {
   "metadata": {
    "ExecuteTime": {
     "end_time": "2025-07-22T11:01:53.654537Z",
     "start_time": "2025-07-22T11:01:53.620126Z"
    }
   },
   "cell_type": "code",
   "source": [
    "user_item_matrix = train.pivot(index=\"user_id\", columns=\"item_id\", values=\"rating\").fillna(0)\n",
    "\n",
    "similarity = cosine_similarity(user_item_matrix)\n",
    "similarity_matrix = pd.DataFrame(similarity, index=user_item_matrix.index, columns=user_item_matrix.index)\n",
    "\n",
    "print(f\"User Item Matrix Size: {user_item_matrix.shape}\")\n",
    "print(similarity_matrix.iloc[:5, :5])"
   ],
   "id": "cbaaf680ceb524cb",
   "outputs": [
    {
     "name": "stdout",
     "output_type": "stream",
     "text": [
      "User Item Matrix Size: (943, 1651)\n",
      "user_id         1         2         3         4         5\n",
      "user_id                                                  \n",
      "1        1.000000  0.150846  0.047732  0.021228  0.298226\n",
      "2        0.150846  1.000000  0.101018  0.082677  0.049558\n",
      "3        0.047732  0.101018  1.000000  0.363461  0.026743\n",
      "4        0.021228  0.082677  0.363461  1.000000  0.011819\n",
      "5        0.298226  0.049558  0.026743  0.011819  1.000000\n"
     ]
    }
   ],
   "execution_count": 106
  },
  {
   "metadata": {},
   "cell_type": "markdown",
   "source": "## Pick a Target User",
   "id": "bf541e666d804e61"
  },
  {
   "metadata": {
    "ExecuteTime": {
     "end_time": "2025-07-22T11:01:53.710761Z",
     "start_time": "2025-07-22T11:01:53.703999Z"
    }
   },
   "cell_type": "code",
   "source": [
    "# Keep only test users that are also in the train matrix\n",
    "test = test[test[\"user_id\"].isin(user_item_matrix.index)]\n",
    "print(f\"Filtered test set to {len(test)} entries with known users.\")\n",
    "\n",
    "target_user_id = test[\"user_id\"].sample(1).iloc[0]\n",
    "print(f\"Target user: {target_user_id}\")"
   ],
   "id": "fd01268f081e7f4f",
   "outputs": [
    {
     "name": "stdout",
     "output_type": "stream",
     "text": [
      "Filtered test set to 19633 entries with known users.\n",
      "Target user: 589\n"
     ]
    }
   ],
   "execution_count": 107
  },
  {
   "metadata": {},
   "cell_type": "markdown",
   "source": "## Generate Top-K Recommendations",
   "id": "fa755762809a8c15"
  },
  {
   "metadata": {
    "ExecuteTime": {
     "end_time": "2025-07-22T11:01:53.762965Z",
     "start_time": "2025-07-22T11:01:53.759781Z"
    }
   },
   "cell_type": "code",
   "source": [
    "# Force reload the updated module to get the new function signature\n",
    "import importlib\n",
    "import src.user_cf\n",
    "\n",
    "importlib.reload(src.user_cf)\n",
    "\n",
    "from src.user_cf import get_top_k_recommendations"
   ],
   "id": "a860b8e299209fff",
   "outputs": [],
   "execution_count": 108
  },
  {
   "metadata": {
    "ExecuteTime": {
     "end_time": "2025-07-22T11:01:54.071420Z",
     "start_time": "2025-07-22T11:01:53.790533Z"
    }
   },
   "cell_type": "code",
   "source": [
    "k_movies = 1\n",
    "top_k_recs = get_top_k_recommendations(\n",
    "    user_id=target_user_id,\n",
    "    ratings=train,\n",
    "    user_item_matrix=user_item_matrix,\n",
    "    similarity_matrix=similarity_matrix,\n",
    "    k=k_movies,\n",
    "    top_n_neighbors=50\n",
    ")\n",
    "print(f\"Top {k_movies} recommended items for user {target_user_id}:\")\n",
    "top_k_recs"
   ],
   "id": "7bdb0a87ecec34f6",
   "outputs": [
    {
     "name": "stdout",
     "output_type": "stream",
     "text": [
      "Top 1 recommended items for user 589:\n"
     ]
    },
    {
     "data": {
      "text/plain": [
       "[(11, 5.0)]"
      ]
     },
     "execution_count": 109,
     "metadata": {},
     "output_type": "execute_result"
    }
   ],
   "execution_count": 109
  },
  {
   "metadata": {},
   "cell_type": "markdown",
   "source": "## Evaluate Precision@K",
   "id": "db41a551f347896e"
  },
  {
   "metadata": {
    "ExecuteTime": {
     "end_time": "2025-07-22T11:04:05.037910Z",
     "start_time": "2025-07-22T11:01:54.096101Z"
    }
   },
   "cell_type": "code",
   "source": [
    "from src.evaluation import evaluate_precision_at_k\n",
    "\n",
    "precision = evaluate_precision_at_k(\n",
    "    test_df=test,\n",
    "    train_df=train,\n",
    "    user_item_matrix=user_item_matrix,\n",
    "    similarity_matrix=similarity_matrix,\n",
    "    k=k_movies\n",
    ")\n",
    "\n",
    "print(f\"Average Precision@5: {precision:.4f}\")"
   ],
   "id": "8a87b66eb8049d66",
   "outputs": [
    {
     "name": "stdout",
     "output_type": "stream",
     "text": [
      "Average Precision@5: 0.0021\n"
     ]
    }
   ],
   "execution_count": 110
  }
 ],
 "metadata": {
  "kernelspec": {
   "display_name": "Python 3",
   "language": "python",
   "name": "python3"
  },
  "language_info": {
   "codemirror_mode": {
    "name": "ipython",
    "version": 2
   },
   "file_extension": ".py",
   "mimetype": "text/x-python",
   "name": "python",
   "nbconvert_exporter": "python",
   "pygments_lexer": "ipython2",
   "version": "2.7.6"
  }
 },
 "nbformat": 4,
 "nbformat_minor": 5
}
