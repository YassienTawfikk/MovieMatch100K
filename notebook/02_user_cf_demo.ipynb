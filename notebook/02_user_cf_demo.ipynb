{
 "cells": [
  {
   "metadata": {},
   "cell_type": "markdown",
   "source": "# User-Based Collaborative Filtering",
   "id": "f2f5bfcc8795a2ec"
  },
  {
   "metadata": {},
   "cell_type": "markdown",
   "source": "## Import Libraries",
   "id": "71563b8e65b1f881"
  },
  {
   "cell_type": "code",
   "id": "initial_id",
   "metadata": {
    "collapsed": true,
    "ExecuteTime": {
     "end_time": "2025-07-22T15:52:43.271240Z",
     "start_time": "2025-07-22T15:52:42.605578Z"
    }
   },
   "source": [
    "import pandas as pd\n",
    "from sklearn.metrics.pairwise import cosine_similarity\n",
    "\n",
    "from src.user_cf import get_top_k_recommendations"
   ],
   "outputs": [
    {
     "name": "stdout",
     "output_type": "stream",
     "text": [
      "Directories are Found.\n"
     ]
    }
   ],
   "execution_count": 1
  },
  {
   "metadata": {},
   "cell_type": "markdown",
   "source": "## Load Train & Test Data",
   "id": "34669f8fc887d89b"
  },
  {
   "metadata": {
    "ExecuteTime": {
     "end_time": "2025-07-22T15:52:44.307582Z",
     "start_time": "2025-07-22T15:52:44.283707Z"
    }
   },
   "cell_type": "code",
   "source": [
    "# Load train data\n",
    "train = pd.read_csv(\"../data/curated/train.csv\")\n",
    "\n",
    "# Filter active users\n",
    "active_users = train[\"user_id\"].value_counts()\n",
    "active_users = active_users[active_users >= 10].index\n",
    "train = train[train[\"user_id\"].isin(active_users)]\n",
    "\n",
    "print(f\"Filtered train to {len(train)} ratings from {len(active_users)} active users.\")\n",
    "\n",
    "# Load Test Data\n",
    "test = pd.read_csv(\"../data/curated/test.csv\")\n",
    "test = test[test[\"rating\"] >= 4]\n",
    "print(f\"Test size: {test.shape}\")"
   ],
   "id": "f1cd0726c1c06721",
   "outputs": [
    {
     "name": "stdout",
     "output_type": "stream",
     "text": [
      "Filtered train to 80367 ratings from 943 active users.\n",
      "Test size: (10819, 3)\n"
     ]
    }
   ],
   "execution_count": 2
  },
  {
   "metadata": {},
   "cell_type": "markdown",
   "source": "## Build User-Item Matrix & Cosine Similarity",
   "id": "cf1cf3a11a57d32c"
  },
  {
   "metadata": {
    "ExecuteTime": {
     "end_time": "2025-07-22T15:52:46.535358Z",
     "start_time": "2025-07-22T15:52:46.477719Z"
    }
   },
   "cell_type": "code",
   "source": [
    "user_item_matrix = train.pivot(index=\"user_id\", columns=\"item_id\", values=\"rating\")\n",
    "\n",
    "user_item_centered = user_item_matrix.sub(user_item_matrix.mean(axis=1), axis=0)\n",
    "\n",
    "user_item_centered = user_item_centered.fillna(0)\n",
    "\n",
    "similarity_matrix = pd.DataFrame(\n",
    "    cosine_similarity(user_item_centered),\n",
    "    index=user_item_matrix.index,\n",
    "    columns=user_item_matrix.index\n",
    ")\n",
    "\n",
    "# Check\n",
    "print(f\"User Item Matrix Size: {user_item_matrix.shape}\")\n",
    "print(similarity_matrix.iloc[:5, :5])"
   ],
   "id": "cbaaf680ceb524cb",
   "outputs": [
    {
     "name": "stdout",
     "output_type": "stream",
     "text": [
      "User Item Matrix Size: (943, 1651)\n",
      "user_id         1         2         3         4         5\n",
      "user_id                                                  \n",
      "1        1.000000  0.043419  0.010540  0.013470  0.118058\n",
      "2        0.043419  1.000000  0.001380 -0.045285  0.015966\n",
      "3        0.010540  0.001380  1.000000 -0.072125  0.021674\n",
      "4        0.013470 -0.045285 -0.072125  1.000000 -0.001186\n",
      "5        0.118058  0.015966  0.021674 -0.001186  1.000000\n"
     ]
    }
   ],
   "execution_count": 3
  },
  {
   "metadata": {},
   "cell_type": "markdown",
   "source": "## Pick a Target User",
   "id": "bf541e666d804e61"
  },
  {
   "metadata": {
    "ExecuteTime": {
     "end_time": "2025-07-22T15:52:47.714870Z",
     "start_time": "2025-07-22T15:52:47.710353Z"
    }
   },
   "cell_type": "code",
   "source": [
    "# Keep only test users that are also in the train matrix\n",
    "test = test[test[\"user_id\"].isin(user_item_matrix.index)]\n",
    "print(f\"Filtered test set to {len(test)} entries with known users.\")\n",
    "\n",
    "target_user_id = test[\"user_id\"].sample(1).iloc[0]\n",
    "print(f\"Target user: {target_user_id}\")"
   ],
   "id": "fd01268f081e7f4f",
   "outputs": [
    {
     "name": "stdout",
     "output_type": "stream",
     "text": [
      "Filtered test set to 10819 entries with known users.\n",
      "Target user: 478\n"
     ]
    }
   ],
   "execution_count": 4
  },
  {
   "metadata": {},
   "cell_type": "markdown",
   "source": "## Generate Top-K Recommendations",
   "id": "fa755762809a8c15"
  },
  {
   "metadata": {
    "ExecuteTime": {
     "end_time": "2025-07-22T15:52:52.078486Z",
     "start_time": "2025-07-22T15:52:52.073221Z"
    }
   },
   "cell_type": "code",
   "source": [
    "# Force reload the updated module to get the new function signature\n",
    "import importlib\n",
    "import src.user_cf\n",
    "\n",
    "importlib.reload(src.user_cf)\n",
    "\n",
    "from src.user_cf import get_top_k_recommendations"
   ],
   "id": "a860b8e299209fff",
   "outputs": [],
   "execution_count": 5
  },
  {
   "metadata": {
    "ExecuteTime": {
     "end_time": "2025-07-22T15:52:53.254814Z",
     "start_time": "2025-07-22T15:52:53.023023Z"
    }
   },
   "cell_type": "code",
   "source": [
    "k_movies = 10\n",
    "top_k_recs = get_top_k_recommendations(\n",
    "    user_id=target_user_id,\n",
    "    ratings=train,\n",
    "    user_item_matrix=user_item_matrix.fillna(0),  # keep original for rating lookup\n",
    "    similarity_matrix=similarity_matrix,\n",
    "    k=5,\n",
    "    top_n_neighbors=50\n",
    ")\n",
    "print(f\"Top {k_movies} recommended items for user {target_user_id}:\")\n",
    "top_k_recs"
   ],
   "id": "7bdb0a87ecec34f6",
   "outputs": [
    {
     "name": "stdout",
     "output_type": "stream",
     "text": [
      "Top 10 recommended items for user 478:\n"
     ]
    },
    {
     "data": {
      "text/plain": [
       "[(30, 5.000000000000001), (114, 5.0), (236, 5.0), (262, 5.0), (311, 5.0)]"
      ]
     },
     "execution_count": 6,
     "metadata": {},
     "output_type": "execute_result"
    }
   ],
   "execution_count": 6
  },
  {
   "metadata": {},
   "cell_type": "markdown",
   "source": "## Evaluation",
   "id": "db41a551f347896e"
  },
  {
   "metadata": {},
   "cell_type": "markdown",
   "source": "### Precision@K",
   "id": "83ea3f97a7f4aebc"
  },
  {
   "metadata": {
    "ExecuteTime": {
     "end_time": "2025-07-22T14:27:55.812505Z",
     "start_time": "2025-07-22T14:25:27.525512Z"
    }
   },
   "cell_type": "code",
   "source": [
    "from src.evaluation import evaluate_precision_at_k\n",
    "\n",
    "precision = evaluate_precision_at_k(\n",
    "    test_df=test,\n",
    "    train_df=train,\n",
    "    user_item_matrix=user_item_matrix,\n",
    "    similarity_matrix=similarity_matrix,\n",
    "    k=k_movies\n",
    ")\n",
    "\n",
    "print(f\"Average Precision@{k_movies}: {precision * 100:.4f}%\")"
   ],
   "id": "8a87b66eb8049d66",
   "outputs": [
    {
     "name": "stdout",
     "output_type": "stream",
     "text": [
      "Average Precision@10: 0.4212%\n"
     ]
    }
   ],
   "execution_count": 32
  },
  {
   "metadata": {},
   "cell_type": "markdown",
   "source": "### Recall@k",
   "id": "16023d02f46bc960"
  },
  {
   "metadata": {
    "ExecuteTime": {
     "end_time": "2025-07-22T14:18:30.725103Z",
     "start_time": "2025-07-22T14:16:02.954527Z"
    }
   },
   "cell_type": "code",
   "source": [
    "from src.evaluation import evaluate_recall_at_k\n",
    "\n",
    "recall = evaluate_recall_at_k(\n",
    "    test_df=test,\n",
    "    train_df=train,\n",
    "    user_item_matrix=user_item_matrix,\n",
    "    similarity_matrix=similarity_matrix,\n",
    "    k=k_movies,\n",
    "    top_n_neighbors=50\n",
    ")\n",
    "\n",
    "print(f\"Average Recall@{k_movies}: {recall * 100:.4f}%\")"
   ],
   "id": "193af1df553010c3",
   "outputs": [
    {
     "name": "stdout",
     "output_type": "stream",
     "text": [
      "Average Recall@10: 0.2628%\n"
     ]
    }
   ],
   "execution_count": 31
  }
 ],
 "metadata": {
  "kernelspec": {
   "display_name": "Python 3",
   "language": "python",
   "name": "python3"
  },
  "language_info": {
   "codemirror_mode": {
    "name": "ipython",
    "version": 2
   },
   "file_extension": ".py",
   "mimetype": "text/x-python",
   "name": "python",
   "nbconvert_exporter": "python",
   "pygments_lexer": "ipython2",
   "version": "2.7.6"
  }
 },
 "nbformat": 4,
 "nbformat_minor": 5
}
