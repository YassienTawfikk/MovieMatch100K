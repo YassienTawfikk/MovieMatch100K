{
 "cells": [
  {
   "metadata": {},
   "cell_type": "markdown",
   "source": "# User-Based Collaborative Filtering",
   "id": "f2f5bfcc8795a2ec"
  },
  {
   "metadata": {},
   "cell_type": "markdown",
   "source": "## Import Libraries",
   "id": "71563b8e65b1f881"
  },
  {
   "cell_type": "code",
   "id": "initial_id",
   "metadata": {
    "collapsed": true,
    "ExecuteTime": {
     "end_time": "2025-07-22T10:27:23.077983Z",
     "start_time": "2025-07-22T10:27:23.072451Z"
    }
   },
   "source": [
    "import pandas as pd\n",
    "from sklearn.metrics.pairwise import cosine_similarity\n",
    "\n",
    "from src.user_cf import (\n",
    "    get_top_k_recommendations\n",
    ")"
   ],
   "outputs": [],
   "execution_count": 40
  },
  {
   "metadata": {},
   "cell_type": "markdown",
   "source": "## Load Train & Test Data",
   "id": "34669f8fc887d89b"
  },
  {
   "metadata": {
    "ExecuteTime": {
     "end_time": "2025-07-22T10:27:23.109696Z",
     "start_time": "2025-07-22T10:27:23.097280Z"
    }
   },
   "cell_type": "code",
   "source": [
    "test = pd.read_csv(\"../data/curated/test.csv\")\n",
    "train = pd.read_csv(\"../data/curated/train.csv\")\n",
    "\n",
    "print(f\"Train size: {train.shape}, Test size: {test.shape}\")"
   ],
   "id": "f1cd0726c1c06721",
   "outputs": [
    {
     "name": "stdout",
     "output_type": "stream",
     "text": [
      "Train size: (80367, 3), Test size: (19633, 3)\n"
     ]
    }
   ],
   "execution_count": 41
  },
  {
   "metadata": {},
   "cell_type": "markdown",
   "source": "## Build User-Item Matrix & Cosine Similarity",
   "id": "cf1cf3a11a57d32c"
  },
  {
   "metadata": {
    "ExecuteTime": {
     "end_time": "2025-07-22T10:27:23.178913Z",
     "start_time": "2025-07-22T10:27:23.128550Z"
    }
   },
   "cell_type": "code",
   "source": [
    "user_item_matrix = train.pivot(index=\"user_id\", columns=\"item_id\", values=\"rating\").fillna(0)\n",
    "\n",
    "similarity = cosine_similarity(user_item_matrix)\n",
    "similarity_matrix = pd.DataFrame(similarity, index=user_item_matrix.index, columns=user_item_matrix.index)\n",
    "\n",
    "print(f\"User Item Matrix Size: {user_item_matrix.shape}\")\n",
    "print(similarity_matrix.iloc[:5, :5])"
   ],
   "id": "cbaaf680ceb524cb",
   "outputs": [
    {
     "name": "stdout",
     "output_type": "stream",
     "text": [
      "User Item Matrix Size: (943, 1651)\n",
      "user_id         1         2         3         4         5\n",
      "user_id                                                  \n",
      "1        1.000000  0.150846  0.047732  0.021228  0.298226\n",
      "2        0.150846  1.000000  0.101018  0.082677  0.049558\n",
      "3        0.047732  0.101018  1.000000  0.363461  0.026743\n",
      "4        0.021228  0.082677  0.363461  1.000000  0.011819\n",
      "5        0.298226  0.049558  0.026743  0.011819  1.000000\n"
     ]
    }
   ],
   "execution_count": 42
  },
  {
   "metadata": {},
   "cell_type": "markdown",
   "source": "## Pick a Target User",
   "id": "bf541e666d804e61"
  },
  {
   "metadata": {
    "ExecuteTime": {
     "end_time": "2025-07-22T10:27:23.202947Z",
     "start_time": "2025-07-22T10:27:23.198734Z"
    }
   },
   "cell_type": "code",
   "source": [
    "target_user_id = test[\"user_id\"].sample(1).iloc[0]\n",
    "print(f\"Target user: {target_user_id}\")"
   ],
   "id": "fd01268f081e7f4f",
   "outputs": [
    {
     "name": "stdout",
     "output_type": "stream",
     "text": [
      "Target user: 8\n"
     ]
    }
   ],
   "execution_count": 43
  },
  {
   "metadata": {},
   "cell_type": "markdown",
   "source": "## Generate Top-K Recommendations",
   "id": "fa755762809a8c15"
  },
  {
   "metadata": {
    "ExecuteTime": {
     "end_time": "2025-07-22T10:27:23.462986Z",
     "start_time": "2025-07-22T10:27:23.233598Z"
    }
   },
   "cell_type": "code",
   "source": [
    "top_k_recs = get_top_k_recommendations(\n",
    "    user_id=target_user_id,\n",
    "    ratings=train,\n",
    "    user_item_matrix=user_item_matrix,\n",
    "    similarity_matrix=similarity_matrix,\n",
    "    k=5\n",
    ")\n",
    "\n",
    "print(f\"Top 5 recommended items for user {target_user_id}:\")\n",
    "top_k_recs"
   ],
   "id": "7bdb0a87ecec34f6",
   "outputs": [
    {
     "name": "stdout",
     "output_type": "stream",
     "text": [
      "Top 5 recommended items for user 8:\n"
     ]
    },
    {
     "data": {
      "text/plain": [
       "[(1189, 5.000000000000001),\n",
       " (1628, 5.000000000000001),\n",
       " (1642, 5.000000000000001),\n",
       " (814, 5.0),\n",
       " (850, 5.0)]"
      ]
     },
     "execution_count": 44,
     "metadata": {},
     "output_type": "execute_result"
    }
   ],
   "execution_count": 44
  },
  {
   "metadata": {},
   "cell_type": "markdown",
   "source": "## Evaluate Precision@K",
   "id": "db41a551f347896e"
  },
  {
   "metadata": {
    "ExecuteTime": {
     "end_time": "2025-07-22T10:29:34.220409Z",
     "start_time": "2025-07-22T10:27:23.488361Z"
    }
   },
   "cell_type": "code",
   "source": [
    "from src.evaluation import evaluate_precision_at_k\n",
    "\n",
    "precision = evaluate_precision_at_k(\n",
    "    test_df=test,\n",
    "    train_df=train,\n",
    "    user_item_matrix=user_item_matrix,\n",
    "    similarity_matrix=similarity_matrix,\n",
    "    k=5\n",
    ")\n",
    "\n",
    "print(f\"Average Precision@5: {precision:.4f}\")"
   ],
   "id": "8a87b66eb8049d66",
   "outputs": [
    {
     "name": "stdout",
     "output_type": "stream",
     "text": [
      "Average Precision@5: 0.0011\n"
     ]
    }
   ],
   "execution_count": 45
  }
 ],
 "metadata": {
  "kernelspec": {
   "display_name": "Python 3",
   "language": "python",
   "name": "python3"
  },
  "language_info": {
   "codemirror_mode": {
    "name": "ipython",
    "version": 2
   },
   "file_extension": ".py",
   "mimetype": "text/x-python",
   "name": "python",
   "nbconvert_exporter": "python",
   "pygments_lexer": "ipython2",
   "version": "2.7.6"
  }
 },
 "nbformat": 4,
 "nbformat_minor": 5
}
