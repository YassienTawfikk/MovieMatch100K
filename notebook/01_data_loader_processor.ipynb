{
 "cells": [
  {
   "metadata": {},
   "cell_type": "markdown",
   "source": "# Data Loading & Processing",
   "id": "ccf7b0c805c5dd31"
  },
  {
   "metadata": {},
   "cell_type": "markdown",
   "source": "## Data Loading",
   "id": "60c24346df783e31"
  },
  {
   "metadata": {},
   "cell_type": "markdown",
   "source": "### Import libraries",
   "id": "7ece64bb721950c3"
  },
  {
   "cell_type": "code",
   "id": "initial_id",
   "metadata": {
    "collapsed": true,
    "ExecuteTime": {
     "end_time": "2025-07-21T09:39:13.199870Z",
     "start_time": "2025-07-21T09:39:13.127253Z"
    }
   },
   "source": [
    "import kagglehub\n",
    "import os\n",
    "import shutil"
   ],
   "outputs": [],
   "execution_count": 1
  },
  {
   "metadata": {},
   "cell_type": "markdown",
   "source": "### Download datasets",
   "id": "7f87d6b0da605a67"
  },
  {
   "metadata": {
    "ExecuteTime": {
     "end_time": "2025-07-21T09:39:37.781812Z",
     "start_time": "2025-07-21T09:39:37.327779Z"
    }
   },
   "cell_type": "code",
   "source": [
    "dest_folder = \"../data/raw\"\n",
    "print(\"Downloading MovieLens 100K from KaggleHub...\")\n",
    "dataset_path = kagglehub.dataset_download(\"prajitdatta/movielens-100k-dataset\")\n",
    "\n",
    "# Go inside the actual dataset folder (usually /.../ml-100k)\n",
    "dataset_subfolder = os.path.join(dataset_path, \"ml-100k\")\n",
    "if not os.path.exists(dataset_subfolder):\n",
    "    raise Exception(f\"Expected 'ml-100k' folder not found in {dataset_path}\")\n",
    "\n",
    "os.makedirs(dest_folder, exist_ok=True)\n",
    "\n",
    "# Copy each file inside ml-100k to dest_folder\n",
    "for filename in os.listdir(dataset_subfolder):\n",
    "    src_file = os.path.join(dataset_subfolder, filename)\n",
    "    dst_file = os.path.join(dest_folder, filename)\n",
    "    shutil.copy2(src_file, dst_file)\n",
    "\n",
    "print(f\"Dataset successfully copied to: {dest_folder}\")"
   ],
   "id": "b61502531812b02a",
   "outputs": [
    {
     "name": "stdout",
     "output_type": "stream",
     "text": [
      "Downloading MovieLens 100K from KaggleHub...\n",
      "Dataset successfully copied to: ../data/raw\n"
     ]
    }
   ],
   "execution_count": 2
  }
 ],
 "metadata": {
  "kernelspec": {
   "display_name": "Python 3",
   "language": "python",
   "name": "python3"
  },
  "language_info": {
   "codemirror_mode": {
    "name": "ipython",
    "version": 2
   },
   "file_extension": ".py",
   "mimetype": "text/x-python",
   "name": "python",
   "nbconvert_exporter": "python",
   "pygments_lexer": "ipython2",
   "version": "2.7.6"
  }
 },
 "nbformat": 4,
 "nbformat_minor": 5
}
