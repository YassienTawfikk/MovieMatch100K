{
 "cells": [
  {
   "metadata": {},
   "cell_type": "markdown",
   "source": "# Personal Movies Recommendation",
   "id": "e8ca2b28d18ea7b8"
  },
  {
   "metadata": {},
   "cell_type": "markdown",
   "source": "## Imports",
   "id": "3221460e7670781e"
  },
  {
   "metadata": {
    "ExecuteTime": {
     "end_time": "2025-08-01T15:54:32.704141Z",
     "start_time": "2025-08-01T15:54:32.700540Z"
    }
   },
   "cell_type": "code",
   "source": [
    "import pandas as pd\n",
    "from src.svd import run_svd_pipeline"
   ],
   "id": "c6e08bf385d72ff",
   "outputs": [],
   "execution_count": 6
  },
  {
   "metadata": {},
   "cell_type": "markdown",
   "source": "## Dataframe Creation",
   "id": "d0690391318e3cc5"
  },
  {
   "metadata": {
    "ExecuteTime": {
     "end_time": "2025-08-01T15:57:49.503732Z",
     "start_time": "2025-08-01T15:57:49.476094Z"
    }
   },
   "cell_type": "code",
   "source": [
    "ratings = pd.read_csv(\"../data/processed/ratings.csv\")\n",
    "movies = pd.read_csv(\"../data/processed/movies.csv\")\n",
    "\n",
    "my_movies = pd.DataFrame({\n",
    "    'item_id': [127, 182, 56, 178],\n",
    "    'my_rating': [4, 5, 3, 3]\n",
    "})\n",
    "\n",
    "my_movies = my_movies.merge(movies[['item_id', 'title']], on='item_id')\n",
    "print(\"You've Already Watched:\\n\")\n",
    "display(my_movies[['title', 'my_rating']])\n"
   ],
   "id": "d3e0bfd3fbddc348",
   "outputs": [
    {
     "name": "stdout",
     "output_type": "stream",
     "text": [
      "You've Already Watched:\n",
      "\n"
     ]
    },
    {
     "data": {
      "text/plain": [
       "                   title  my_rating\n",
       "0  Godfather, The (1972)          4\n",
       "1      GoodFellas (1990)          5\n",
       "2    Pulp Fiction (1994)          3\n",
       "3    12 Angry Men (1957)          3"
      ],
      "text/html": [
       "<div>\n",
       "<style scoped>\n",
       "    .dataframe tbody tr th:only-of-type {\n",
       "        vertical-align: middle;\n",
       "    }\n",
       "\n",
       "    .dataframe tbody tr th {\n",
       "        vertical-align: top;\n",
       "    }\n",
       "\n",
       "    .dataframe thead th {\n",
       "        text-align: right;\n",
       "    }\n",
       "</style>\n",
       "<table border=\"1\" class=\"dataframe\">\n",
       "  <thead>\n",
       "    <tr style=\"text-align: right;\">\n",
       "      <th></th>\n",
       "      <th>title</th>\n",
       "      <th>my_rating</th>\n",
       "    </tr>\n",
       "  </thead>\n",
       "  <tbody>\n",
       "    <tr>\n",
       "      <th>0</th>\n",
       "      <td>Godfather, The (1972)</td>\n",
       "      <td>4</td>\n",
       "    </tr>\n",
       "    <tr>\n",
       "      <th>1</th>\n",
       "      <td>GoodFellas (1990)</td>\n",
       "      <td>5</td>\n",
       "    </tr>\n",
       "    <tr>\n",
       "      <th>2</th>\n",
       "      <td>Pulp Fiction (1994)</td>\n",
       "      <td>3</td>\n",
       "    </tr>\n",
       "    <tr>\n",
       "      <th>3</th>\n",
       "      <td>12 Angry Men (1957)</td>\n",
       "      <td>3</td>\n",
       "    </tr>\n",
       "  </tbody>\n",
       "</table>\n",
       "</div>"
      ]
     },
     "metadata": {},
     "output_type": "display_data"
    }
   ],
   "execution_count": 7
  },
  {
   "metadata": {},
   "cell_type": "markdown",
   "source": "## SVD Recommendation",
   "id": "f2a1cd91d7e1bc04"
  },
  {
   "metadata": {
    "ExecuteTime": {
     "end_time": "2025-08-01T15:58:37.371574Z",
     "start_time": "2025-08-01T15:58:37.234600Z"
    }
   },
   "cell_type": "code",
   "source": [
    "# 4. Run SVD\n",
    "user_id = 1  # Could be any dummy ID\n",
    "top_k, _, _, _ = run_svd_pipeline(user_id=user_id, ratings_df=ratings, k=30)\n",
    "\n",
    "# 5. Build recommendation DataFrame\n",
    "recs_df = pd.DataFrame(top_k, columns=[\"item_id\", \"predicted_rating\"])\n",
    "\n",
    "# 6. Merge with movie titles\n",
    "recs_df = recs_df.merge(movies[['item_id', 'title']], on=\"item_id\")\n",
    "\n",
    "# 7. Remove already-watched items\n",
    "filtered_recs = recs_df[~recs_df['item_id'].isin(my_movies['item_id'])]\n",
    "\n",
    "# 8. Show final top-N recommendations\n",
    "top_n = 10\n",
    "print(f\"\\nTop {top_n} Recommended Movies:\\n\")\n",
    "display(filtered_recs[['title', 'predicted_rating']].head(top_n))"
   ],
   "id": "8e5db67d12b21658",
   "outputs": [
    {
     "name": "stdout",
     "output_type": "stream",
     "text": [
      "\n",
      "Top 10 Recommended Movies:\n",
      "\n"
     ]
    },
    {
     "data": {
      "text/plain": [
       "                                               title  predicted_rating\n",
       "0                               Trainspotting (1996)          3.958260\n",
       "1                  E.T. the Extra-Terrestrial (1982)          3.361876\n",
       "2                                  Casablanca (1942)          3.263087\n",
       "3                       Sense and Sensibility (1995)          3.241236\n",
       "4                                    Heathers (1989)          3.226547\n",
       "5                              Close Shave, A (1995)          3.159864\n",
       "6                                 Stand by Me (1986)          3.128734\n",
       "7                            Schindler's List (1993)          3.114066\n",
       "8                                      Batman (1989)          3.072493\n",
       "9  Dr. Strangelove or: How I Learned to Stop Worr...          2.949152"
      ],
      "text/html": [
       "<div>\n",
       "<style scoped>\n",
       "    .dataframe tbody tr th:only-of-type {\n",
       "        vertical-align: middle;\n",
       "    }\n",
       "\n",
       "    .dataframe tbody tr th {\n",
       "        vertical-align: top;\n",
       "    }\n",
       "\n",
       "    .dataframe thead th {\n",
       "        text-align: right;\n",
       "    }\n",
       "</style>\n",
       "<table border=\"1\" class=\"dataframe\">\n",
       "  <thead>\n",
       "    <tr style=\"text-align: right;\">\n",
       "      <th></th>\n",
       "      <th>title</th>\n",
       "      <th>predicted_rating</th>\n",
       "    </tr>\n",
       "  </thead>\n",
       "  <tbody>\n",
       "    <tr>\n",
       "      <th>0</th>\n",
       "      <td>Trainspotting (1996)</td>\n",
       "      <td>3.958260</td>\n",
       "    </tr>\n",
       "    <tr>\n",
       "      <th>1</th>\n",
       "      <td>E.T. the Extra-Terrestrial (1982)</td>\n",
       "      <td>3.361876</td>\n",
       "    </tr>\n",
       "    <tr>\n",
       "      <th>2</th>\n",
       "      <td>Casablanca (1942)</td>\n",
       "      <td>3.263087</td>\n",
       "    </tr>\n",
       "    <tr>\n",
       "      <th>3</th>\n",
       "      <td>Sense and Sensibility (1995)</td>\n",
       "      <td>3.241236</td>\n",
       "    </tr>\n",
       "    <tr>\n",
       "      <th>4</th>\n",
       "      <td>Heathers (1989)</td>\n",
       "      <td>3.226547</td>\n",
       "    </tr>\n",
       "    <tr>\n",
       "      <th>5</th>\n",
       "      <td>Close Shave, A (1995)</td>\n",
       "      <td>3.159864</td>\n",
       "    </tr>\n",
       "    <tr>\n",
       "      <th>6</th>\n",
       "      <td>Stand by Me (1986)</td>\n",
       "      <td>3.128734</td>\n",
       "    </tr>\n",
       "    <tr>\n",
       "      <th>7</th>\n",
       "      <td>Schindler's List (1993)</td>\n",
       "      <td>3.114066</td>\n",
       "    </tr>\n",
       "    <tr>\n",
       "      <th>8</th>\n",
       "      <td>Batman (1989)</td>\n",
       "      <td>3.072493</td>\n",
       "    </tr>\n",
       "    <tr>\n",
       "      <th>9</th>\n",
       "      <td>Dr. Strangelove or: How I Learned to Stop Worr...</td>\n",
       "      <td>2.949152</td>\n",
       "    </tr>\n",
       "  </tbody>\n",
       "</table>\n",
       "</div>"
      ]
     },
     "metadata": {},
     "output_type": "display_data"
    }
   ],
   "execution_count": 8
  },
  {
   "metadata": {},
   "cell_type": "markdown",
   "source": "## Item-Based Collaborative Filtering Recommendation",
   "id": "4ceb3606285db03d"
  },
  {
   "metadata": {
    "ExecuteTime": {
     "end_time": "2025-08-01T16:02:12.681004Z",
     "start_time": "2025-08-01T16:02:12.338339Z"
    }
   },
   "cell_type": "code",
   "source": [
    "from src.item_cf import run_item_cf_pipeline\n",
    "\n",
    "# Run Item-Based CF\n",
    "item_cf_top_k, _ = run_item_cf_pipeline(user_id=user_id, ratings_df=ratings, k=30)\n",
    "\n",
    "# Convert to DataFrame\n",
    "item_cf_df = pd.DataFrame(item_cf_top_k, columns=[\"item_id\", \"predicted_score\"])\n",
    "\n",
    "# Merge with movie titles\n",
    "item_cf_df = item_cf_df.merge(movies[['item_id', 'title']], on='item_id')\n",
    "\n",
    "# Filter out already-watched movies\n",
    "item_cf_filtered = item_cf_df[~item_cf_df['item_id'].isin(my_movies['item_id'])]\n",
    "\n",
    "# Show top-N item-based recommendations\n",
    "print(f\"\\nTop {top_n} Item-Based CF Recommendations:\\n\")\n",
    "display(item_cf_filtered[['title', 'predicted_score']].head(top_n))"
   ],
   "id": "76f7866b09955498",
   "outputs": [
    {
     "name": "stdout",
     "output_type": "stream",
     "text": [
      "\n",
      "Top 10 Item-Based CF Recommendations:\n",
      "\n"
     ]
    },
    {
     "data": {
      "text/plain": [
       "                              title  predicted_score\n",
       "0         Further Gesture, A (1996)              5.0\n",
       "1                 Mat' i syn (1997)              5.0\n",
       "2                  B. Monkey (1998)              5.0\n",
       "3              Sliding Doors (1998)              5.0\n",
       "4       Big Bang Theory, The (1994)              5.0\n",
       "5  Other Voices, Other Rooms (1997)              5.0\n",
       "6                   Star Kid (1997)              5.0\n",
       "7               Men of Means (1998)              5.0\n",
       "8                 Tokyo Fist (1995)              5.0\n",
       "9                  Hugo Pool (1997)              5.0"
      ],
      "text/html": [
       "<div>\n",
       "<style scoped>\n",
       "    .dataframe tbody tr th:only-of-type {\n",
       "        vertical-align: middle;\n",
       "    }\n",
       "\n",
       "    .dataframe tbody tr th {\n",
       "        vertical-align: top;\n",
       "    }\n",
       "\n",
       "    .dataframe thead th {\n",
       "        text-align: right;\n",
       "    }\n",
       "</style>\n",
       "<table border=\"1\" class=\"dataframe\">\n",
       "  <thead>\n",
       "    <tr style=\"text-align: right;\">\n",
       "      <th></th>\n",
       "      <th>title</th>\n",
       "      <th>predicted_score</th>\n",
       "    </tr>\n",
       "  </thead>\n",
       "  <tbody>\n",
       "    <tr>\n",
       "      <th>0</th>\n",
       "      <td>Further Gesture, A (1996)</td>\n",
       "      <td>5.0</td>\n",
       "    </tr>\n",
       "    <tr>\n",
       "      <th>1</th>\n",
       "      <td>Mat' i syn (1997)</td>\n",
       "      <td>5.0</td>\n",
       "    </tr>\n",
       "    <tr>\n",
       "      <th>2</th>\n",
       "      <td>B. Monkey (1998)</td>\n",
       "      <td>5.0</td>\n",
       "    </tr>\n",
       "    <tr>\n",
       "      <th>3</th>\n",
       "      <td>Sliding Doors (1998)</td>\n",
       "      <td>5.0</td>\n",
       "    </tr>\n",
       "    <tr>\n",
       "      <th>4</th>\n",
       "      <td>Big Bang Theory, The (1994)</td>\n",
       "      <td>5.0</td>\n",
       "    </tr>\n",
       "    <tr>\n",
       "      <th>5</th>\n",
       "      <td>Other Voices, Other Rooms (1997)</td>\n",
       "      <td>5.0</td>\n",
       "    </tr>\n",
       "    <tr>\n",
       "      <th>6</th>\n",
       "      <td>Star Kid (1997)</td>\n",
       "      <td>5.0</td>\n",
       "    </tr>\n",
       "    <tr>\n",
       "      <th>7</th>\n",
       "      <td>Men of Means (1998)</td>\n",
       "      <td>5.0</td>\n",
       "    </tr>\n",
       "    <tr>\n",
       "      <th>8</th>\n",
       "      <td>Tokyo Fist (1995)</td>\n",
       "      <td>5.0</td>\n",
       "    </tr>\n",
       "    <tr>\n",
       "      <th>9</th>\n",
       "      <td>Hugo Pool (1997)</td>\n",
       "      <td>5.0</td>\n",
       "    </tr>\n",
       "  </tbody>\n",
       "</table>\n",
       "</div>"
      ]
     },
     "metadata": {},
     "output_type": "display_data"
    }
   ],
   "execution_count": 9
  },
  {
   "metadata": {},
   "cell_type": "markdown",
   "source": "## User-Based Collaborative Filtering Recommendation",
   "id": "bdb1de8aaec7f9cb"
  },
  {
   "metadata": {
    "ExecuteTime": {
     "end_time": "2025-08-01T16:03:03.461546Z",
     "start_time": "2025-08-01T16:03:02.994788Z"
    }
   },
   "cell_type": "code",
   "source": [
    "from src.user_cf import run_user_cf_pipeline\n",
    "\n",
    "# Run User-Based CF\n",
    "user_cf_top_k, _, _ = run_user_cf_pipeline(user_id=user_id, ratings_df=ratings, k=30)\n",
    "\n",
    "# Convert to DataFrame\n",
    "user_cf_df = pd.DataFrame(user_cf_top_k, columns=[\"item_id\", \"predicted_rating\"])\n",
    "\n",
    "# Merge with movie titles\n",
    "user_cf_df = user_cf_df.merge(movies[['item_id', 'title']], on=\"item_id\")\n",
    "\n",
    "# Filter out already-watched movies\n",
    "user_cf_filtered = user_cf_df[~user_cf_df['item_id'].isin(my_movies['item_id'])]\n",
    "\n",
    "# Show top-N user-based recommendations\n",
    "print(f\"\\nTop {top_n} User-Based CF Recommendations:\\n\")\n",
    "display(user_cf_filtered[['title', 'predicted_rating']].head(top_n))"
   ],
   "id": "c4671e7c637a120a",
   "outputs": [
    {
     "name": "stdout",
     "output_type": "stream",
     "text": [
      "\n",
      "Top 10 User-Based CF Recommendations:\n",
      "\n"
     ]
    },
    {
     "data": {
      "text/plain": [
       "                                  title  predicted_rating\n",
       "0                     Hard Eight (1996)               5.0\n",
       "1                      Traveller (1997)               5.0\n",
       "2                 Ice Storm, The (1997)               5.0\n",
       "3               Double Happiness (1994)               5.0\n",
       "4                       Faithful (1996)               5.0\n",
       "5                         Caught (1996)               5.0\n",
       "6          Endless Summer 2, The (1994)               5.0\n",
       "7                          Faust (1994)               5.0\n",
       "8                Pather Panchali (1955)               5.0\n",
       "9  Saint of Fort Washington, The (1993)               5.0"
      ],
      "text/html": [
       "<div>\n",
       "<style scoped>\n",
       "    .dataframe tbody tr th:only-of-type {\n",
       "        vertical-align: middle;\n",
       "    }\n",
       "\n",
       "    .dataframe tbody tr th {\n",
       "        vertical-align: top;\n",
       "    }\n",
       "\n",
       "    .dataframe thead th {\n",
       "        text-align: right;\n",
       "    }\n",
       "</style>\n",
       "<table border=\"1\" class=\"dataframe\">\n",
       "  <thead>\n",
       "    <tr style=\"text-align: right;\">\n",
       "      <th></th>\n",
       "      <th>title</th>\n",
       "      <th>predicted_rating</th>\n",
       "    </tr>\n",
       "  </thead>\n",
       "  <tbody>\n",
       "    <tr>\n",
       "      <th>0</th>\n",
       "      <td>Hard Eight (1996)</td>\n",
       "      <td>5.0</td>\n",
       "    </tr>\n",
       "    <tr>\n",
       "      <th>1</th>\n",
       "      <td>Traveller (1997)</td>\n",
       "      <td>5.0</td>\n",
       "    </tr>\n",
       "    <tr>\n",
       "      <th>2</th>\n",
       "      <td>Ice Storm, The (1997)</td>\n",
       "      <td>5.0</td>\n",
       "    </tr>\n",
       "    <tr>\n",
       "      <th>3</th>\n",
       "      <td>Double Happiness (1994)</td>\n",
       "      <td>5.0</td>\n",
       "    </tr>\n",
       "    <tr>\n",
       "      <th>4</th>\n",
       "      <td>Faithful (1996)</td>\n",
       "      <td>5.0</td>\n",
       "    </tr>\n",
       "    <tr>\n",
       "      <th>5</th>\n",
       "      <td>Caught (1996)</td>\n",
       "      <td>5.0</td>\n",
       "    </tr>\n",
       "    <tr>\n",
       "      <th>6</th>\n",
       "      <td>Endless Summer 2, The (1994)</td>\n",
       "      <td>5.0</td>\n",
       "    </tr>\n",
       "    <tr>\n",
       "      <th>7</th>\n",
       "      <td>Faust (1994)</td>\n",
       "      <td>5.0</td>\n",
       "    </tr>\n",
       "    <tr>\n",
       "      <th>8</th>\n",
       "      <td>Pather Panchali (1955)</td>\n",
       "      <td>5.0</td>\n",
       "    </tr>\n",
       "    <tr>\n",
       "      <th>9</th>\n",
       "      <td>Saint of Fort Washington, The (1993)</td>\n",
       "      <td>5.0</td>\n",
       "    </tr>\n",
       "  </tbody>\n",
       "</table>\n",
       "</div>"
      ]
     },
     "metadata": {},
     "output_type": "display_data"
    }
   ],
   "execution_count": 10
  }
 ],
 "metadata": {
  "kernelspec": {
   "display_name": "Python 3",
   "language": "python",
   "name": "python3"
  },
  "language_info": {
   "codemirror_mode": {
    "name": "ipython",
    "version": 2
   },
   "file_extension": ".py",
   "mimetype": "text/x-python",
   "name": "python",
   "nbconvert_exporter": "python",
   "pygments_lexer": "ipython2",
   "version": "2.7.6"
  }
 },
 "nbformat": 4,
 "nbformat_minor": 5
}
