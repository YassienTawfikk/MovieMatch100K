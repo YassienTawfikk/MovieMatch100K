{
 "cells": [
  {
   "metadata": {},
   "cell_type": "markdown",
   "source": "# Item Based Collaborative Filtering",
   "id": "7e95adb73b8ac2d6"
  },
  {
   "metadata": {},
   "cell_type": "markdown",
   "source": "## Import Libraries",
   "id": "2793c2c6815bb32b"
  },
  {
   "cell_type": "code",
   "id": "initial_id",
   "metadata": {
    "collapsed": true,
    "ExecuteTime": {
     "end_time": "2025-07-24T15:25:32.185826Z",
     "start_time": "2025-07-24T15:25:32.181439Z"
    }
   },
   "source": [
    "import pandas as pd\n",
    "from sklearn.metrics.pairwise import cosine_similarity"
   ],
   "outputs": [],
   "execution_count": 33
  },
  {
   "metadata": {},
   "cell_type": "markdown",
   "source": "## Load Data",
   "id": "af069d60596f1dfe"
  },
  {
   "metadata": {
    "ExecuteTime": {
     "end_time": "2025-07-24T15:25:32.304623Z",
     "start_time": "2025-07-24T15:25:32.223888Z"
    }
   },
   "cell_type": "code",
   "source": [
    "train_df = pd.read_csv(\"../data/curated/train.csv\")\n",
    "test_df = pd.read_csv(\"../data/curated/test.csv\")\n",
    "print(train_df.head())\n",
    "print(test_df.head())"
   ],
   "id": "1a744f2c5a756342",
   "outputs": [
    {
     "name": "stdout",
     "output_type": "stream",
     "text": [
      "   user_id  item_id  rating\n",
      "0        1      170       5\n",
      "1        1      175       5\n",
      "2        1      119       5\n",
      "3        1      181       5\n",
      "4        1      109       5\n",
      "   user_id  item_id  rating\n",
      "0        1       69       3\n",
      "1        1      101       2\n",
      "2        1      149       2\n",
      "3        1      145       2\n",
      "4        1       27       2\n"
     ]
    }
   ],
   "execution_count": 35
  },
  {
   "metadata": {},
   "cell_type": "markdown",
   "source": "## Build Item Similarity Matrix",
   "id": "9b99dddfd212e00e"
  },
  {
   "metadata": {
    "ExecuteTime": {
     "end_time": "2025-07-24T15:25:32.375933Z",
     "start_time": "2025-07-24T15:25:32.325254Z"
    }
   },
   "cell_type": "code",
   "source": [
    "user_item_matrix = train_df.pivot(index=\"user_id\", columns=\"item_id\", values=\"rating\").fillna(0)\n",
    "\n",
    "item_similarity = cosine_similarity(user_item_matrix.T)\n",
    "\n",
    "item_similarity_matrix = pd.DataFrame(\n",
    "    item_similarity,\n",
    "    index=user_item_matrix.columns,\n",
    "    columns=user_item_matrix.columns\n",
    ")\n",
    "\n",
    "print(\"Sample Item-Item Similarity Matrix:\")\n",
    "print(item_similarity_matrix.iloc[:5, :5])"
   ],
   "id": "9bea60cc8c379b5e",
   "outputs": [
    {
     "name": "stdout",
     "output_type": "stream",
     "text": [
      "Sample Item-Item Similarity Matrix:\n",
      "item_id         1         2         3         4         5\n",
      "item_id                                                  \n",
      "1        1.000000  0.352007  0.261793  0.393437  0.273510\n",
      "2        0.352007  1.000000  0.227923  0.430580  0.280015\n",
      "3        0.261793  0.227923  1.000000  0.228298  0.184168\n",
      "4        0.393437  0.430580  0.228298  1.000000  0.279786\n",
      "5        0.273510  0.280015  0.184168  0.279786  1.000000\n"
     ]
    }
   ],
   "execution_count": 36
  },
  {
   "metadata": {},
   "cell_type": "markdown",
   "source": "## Define Recommendation Function (Item Based)",
   "id": "724924e400340aa8"
  },
  {
   "metadata": {
    "ExecuteTime": {
     "end_time": "2025-07-24T15:25:32.411623Z",
     "start_time": "2025-07-24T15:25:32.405640Z"
    }
   },
   "cell_type": "code",
   "source": "from src.item_cf import recommend_for_user_itemcf",
   "id": "95c9956a09a80e49",
   "outputs": [],
   "execution_count": 37
  },
  {
   "metadata": {},
   "cell_type": "markdown",
   "source": "## Generate Sample Recommendation",
   "id": "d23498bac97c0a4b"
  },
  {
   "metadata": {
    "ExecuteTime": {
     "end_time": "2025-07-24T15:25:32.671303Z",
     "start_time": "2025-07-24T15:25:32.429587Z"
    }
   },
   "cell_type": "code",
   "source": [
    "# Pick a test user who exists in training\n",
    "test_df = test_df[test_df[\"user_id\"].isin(user_item_matrix.index)]\n",
    "target_user_id = test_df[\"user_id\"].sample(1).iloc[0]\n",
    "print(f\"Target user: {target_user_id}\")\n",
    "\n",
    "# Variable for number of recommendations\n",
    "k_movies = 1\n",
    "\n",
    "# Get top 5 recommendations\n",
    "top_k = recommend_for_user_itemcf(\n",
    "    user_id=target_user_id,\n",
    "    ratings_df=train_df,\n",
    "    user_item_matrix=user_item_matrix,\n",
    "    item_similarity_matrix=item_similarity_matrix,\n",
    "    k=k_movies\n",
    ")\n",
    "\n",
    "print(f\"Top 5 item-based recommendations for user {target_user_id}:\")\n",
    "for item, score in top_k:\n",
    "    print(f\"Item {item} → Predicted Score: {score:.2f}\")\n"
   ],
   "id": "529c510b1c071684",
   "outputs": [
    {
     "name": "stdout",
     "output_type": "stream",
     "text": [
      "Target user: 840\n",
      "Top 5 item-based recommendations for user 840:\n",
      "Item 788 → Predicted Score: 5.00\n",
      "Item 1175 → Predicted Score: 4.88\n",
      "Item 1304 → Predicted Score: 4.74\n",
      "Item 1309 → Predicted Score: 4.74\n",
      "Item 1310 → Predicted Score: 4.74\n"
     ]
    }
   ],
   "execution_count": 38
  },
  {
   "metadata": {},
   "cell_type": "markdown",
   "source": "### Imports## Model Evaluation",
   "id": "f40d1db5d0d82933"
  },
  {
   "metadata": {},
   "cell_type": "markdown",
   "source": "### Imports",
   "id": "495fd31d6542a498"
  },
  {
   "metadata": {
    "ExecuteTime": {
     "end_time": "2025-07-24T15:25:32.696044Z",
     "start_time": "2025-07-24T15:25:32.694279Z"
    }
   },
   "cell_type": "code",
   "source": "import numpy as np",
   "id": "4c1f6bbd6d1ed0fc",
   "outputs": [],
   "execution_count": 39
  },
  {
   "metadata": {},
   "cell_type": "markdown",
   "source": "### Precision@K",
   "id": "a31fedb4bfc5609c"
  },
  {
   "metadata": {
    "ExecuteTime": {
     "end_time": "2025-07-24T15:26:33.994417Z",
     "start_time": "2025-07-24T15:25:32.716867Z"
    }
   },
   "cell_type": "code",
   "source": [
    "precs = []\n",
    "users = test_df[\"user_id\"].unique()\n",
    "\n",
    "for user_id in users:\n",
    "    if user_id not in user_item_matrix.index:\n",
    "        continue\n",
    "\n",
    "    actual_items = set(test_df[test_df[\"user_id\"] == user_id][\"item_id\"])\n",
    "\n",
    "    top_k = recommend_for_user_itemcf(\n",
    "        user_id=user_id,\n",
    "        ratings_df=train_df,\n",
    "        user_item_matrix=user_item_matrix,\n",
    "        item_similarity_matrix=item_similarity_matrix,\n",
    "        k=k_movies\n",
    "    )\n",
    "\n",
    "    predicted_items = [item for item, _ in top_k]\n",
    "    hits = [item for item in predicted_items if item in actual_items]\n",
    "    precision = len(hits) / k_movies if k_movies else 0\n",
    "    precs.append(precision)\n",
    "\n",
    "precision = np.mean(precs) if precs else 0.0\n",
    "\n",
    "print(f\"Average Precision@{k_movies}: {precision * 100:.4f}%\")\n"
   ],
   "id": "dad787b15bd10096",
   "outputs": [
    {
     "name": "stdout",
     "output_type": "stream",
     "text": [
      "Average Precision@5: 0.1060%\n"
     ]
    }
   ],
   "execution_count": 40
  },
  {
   "metadata": {},
   "cell_type": "markdown",
   "source": "### Recall",
   "id": "a23803f6d5ee564b"
  },
  {
   "metadata": {
    "ExecuteTime": {
     "end_time": "2025-07-24T15:27:38.644066Z",
     "start_time": "2025-07-24T15:26:34.016534Z"
    }
   },
   "cell_type": "code",
   "source": [
    "recs = []\n",
    "users = test_df[\"user_id\"].unique()\n",
    "\n",
    "for user_id in users:\n",
    "    if user_id not in user_item_matrix.index:\n",
    "        continue\n",
    "\n",
    "    actual_items = set(test_df[test_df[\"user_id\"] == user_id][\"item_id\"])\n",
    "\n",
    "    top_k = recommend_for_user_itemcf(\n",
    "        user_id=user_id,\n",
    "        ratings_df=train_df,\n",
    "        user_item_matrix=user_item_matrix,\n",
    "        item_similarity_matrix=item_similarity_matrix,\n",
    "        k=k_movies\n",
    "    )\n",
    "\n",
    "    predicted_items = [item for item, _ in top_k]\n",
    "    hits = len(set(predicted_items) & actual_items)\n",
    "    recall = hits / len(actual_items) if actual_items else 0\n",
    "    recs.append(recall)\n",
    "\n",
    "recall = np.mean(recs) if recs else 0.0\n",
    "\n",
    "print(f\"Average Recall@{k_movies}: {recall * 100:.4f}%\")"
   ],
   "id": "71e07a051312a35",
   "outputs": [
    {
     "name": "stdout",
     "output_type": "stream",
     "text": [
      "Average Recall@5: 0.0360%\n"
     ]
    }
   ],
   "execution_count": 41
  }
 ],
 "metadata": {
  "kernelspec": {
   "display_name": "Python 3",
   "language": "python",
   "name": "python3"
  },
  "language_info": {
   "codemirror_mode": {
    "name": "ipython",
    "version": 2
   },
   "file_extension": ".py",
   "mimetype": "text/x-python",
   "name": "python",
   "nbconvert_exporter": "python",
   "pygments_lexer": "ipython2",
   "version": "2.7.6"
  }
 },
 "nbformat": 4,
 "nbformat_minor": 5
}
