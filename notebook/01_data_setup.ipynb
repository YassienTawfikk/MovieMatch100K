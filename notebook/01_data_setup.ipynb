{
 "cells": [
  {
   "metadata": {},
   "cell_type": "markdown",
   "source": "# Data Loading & Processing (Setup)",
   "id": "ccf7b0c805c5dd31"
  },
  {
   "metadata": {},
   "cell_type": "markdown",
   "source": "## Data Loading",
   "id": "60c24346df783e31"
  },
  {
   "metadata": {},
   "cell_type": "markdown",
   "source": "### Import libraries",
   "id": "7ece64bb721950c3"
  },
  {
   "cell_type": "code",
   "id": "initial_id",
   "metadata": {
    "collapsed": true,
    "ExecuteTime": {
     "end_time": "2025-07-22T10:26:32.731072Z",
     "start_time": "2025-07-22T10:26:32.727594Z"
    }
   },
   "source": [
    "import kagglehub\n",
    "import os\n",
    "import shutil"
   ],
   "outputs": [],
   "execution_count": 15
  },
  {
   "metadata": {},
   "cell_type": "markdown",
   "source": "### Download datasets",
   "id": "7f87d6b0da605a67"
  },
  {
   "metadata": {
    "ExecuteTime": {
     "end_time": "2025-07-22T10:26:33.148035Z",
     "start_time": "2025-07-22T10:26:32.747917Z"
    }
   },
   "cell_type": "code",
   "source": [
    "dest_folder = \"../data/raw\"\n",
    "print(\"Downloading MovieLens 100K from KaggleHub...\")\n",
    "dataset_path = kagglehub.dataset_download(\"prajitdatta/movielens-100k-dataset\")\n",
    "\n",
    "# Go inside the actual dataset folder (usually /.../ml-100k)\n",
    "dataset_subfolder = os.path.join(dataset_path, \"ml-100k\")\n",
    "if not os.path.exists(dataset_subfolder):\n",
    "    raise Exception(f\"Expected 'ml-100k' folder not found in {dataset_path}\")\n",
    "\n",
    "os.makedirs(dest_folder, exist_ok=True)\n",
    "\n",
    "# Copy each file inside ml-100k to dest_folder\n",
    "for filename in os.listdir(dataset_subfolder):\n",
    "    src_file = os.path.join(dataset_subfolder, filename)\n",
    "    dst_file = os.path.join(dest_folder, filename)\n",
    "    shutil.copy2(src_file, dst_file)\n",
    "\n",
    "print(f\"Dataset successfully copied to: {dest_folder}\")"
   ],
   "id": "b61502531812b02a",
   "outputs": [
    {
     "name": "stdout",
     "output_type": "stream",
     "text": [
      "Downloading MovieLens 100K from KaggleHub...\n",
      "Dataset successfully copied to: ../data/raw\n"
     ]
    }
   ],
   "execution_count": 16
  },
  {
   "metadata": {},
   "cell_type": "markdown",
   "source": "## Data Preprocessing",
   "id": "b6f92ac7950c90a7"
  },
  {
   "metadata": {},
   "cell_type": "markdown",
   "source": "### Setup folders and import",
   "id": "e844f27152ddf2e3"
  },
  {
   "metadata": {
    "ExecuteTime": {
     "end_time": "2025-07-22T10:26:33.164237Z",
     "start_time": "2025-07-22T10:26:33.162178Z"
    }
   },
   "cell_type": "code",
   "source": [
    "import pandas as pd\n",
    "\n",
    "# Make sure the processed folder exists\n",
    "os.makedirs(\"../data/processed\", exist_ok=True)"
   ],
   "id": "f69a21d71015c2e6",
   "outputs": [],
   "execution_count": 17
  },
  {
   "metadata": {},
   "cell_type": "markdown",
   "source": "### Convert u.data - item - user - occupation - genres to CSV files",
   "id": "82225fe41fe6fc30"
  },
  {
   "metadata": {
    "ExecuteTime": {
     "end_time": "2025-07-22T10:26:33.242761Z",
     "start_time": "2025-07-22T10:26:33.175647Z"
    }
   },
   "cell_type": "code",
   "source": [
    "ratings = pd.read_csv(\"../data/raw/u.data\", sep='\\t', header=None,\n",
    "                      names=[\"user_id\", \"item_id\", \"rating\", \"timestamp\"])\n",
    "ratings = ratings.drop(columns=[\"timestamp\"])\n",
    "\n",
    "ratings.to_csv(\"../data/processed/ratings.csv\", index=False)\n",
    "ratings.head()\n",
    "\n",
    "movie_columns = [\n",
    "    \"item_id\", \"title\", \"release_date\", \"video_release_date\", \"IMDb_URL\",\n",
    "    \"unknown\", \"Action\", \"Adventure\", \"Animation\", \"Children's\", \"Comedy\",\n",
    "    \"Crime\", \"Documentary\", \"Drama\", \"Fantasy\", \"Film-Noir\", \"Horror\",\n",
    "    \"Musical\", \"Mystery\", \"Romance\", \"Sci-Fi\", \"Thriller\", \"War\", \"Western\"\n",
    "]\n",
    "\n",
    "movies = pd.read_csv(\"../data/raw/u.item\", sep='|', encoding='latin-1', header=None, names=movie_columns)\n",
    "movies.to_csv(\"../data/processed/movies.csv\", index=False)\n",
    "movies.head()\n",
    "\n",
    "users = pd.read_csv(\"../data/raw/u.user\", sep='|', header=None,\n",
    "                    names=[\"user_id\", \"age\", \"gender\", \"occupation\", \"zip_code\"])\n",
    "users.to_csv(\"../data/processed/users.csv\", index=False)\n",
    "users.head()\n",
    "\n",
    "occupations = pd.read_csv(\"../data/raw/u.occupation\", header=None, names=[\"occupation\"])\n",
    "occupations.to_csv(\"../data/processed/occupations.csv\", index=False)\n",
    "occupations.head()\n",
    "\n",
    "genres = pd.read_csv(\"../data/raw/u.genre\", sep='|', header=None, names=[\"genre\", \"genre_id\"])\n",
    "genres.to_csv(\"../data/processed/genres.csv\", index=False)\n",
    "genres.head()"
   ],
   "id": "b3ee8b84c546ba49",
   "outputs": [
    {
     "data": {
      "text/plain": [
       "        genre  genre_id\n",
       "0     unknown         0\n",
       "1      Action         1\n",
       "2   Adventure         2\n",
       "3   Animation         3\n",
       "4  Children's         4"
      ],
      "text/html": [
       "<div>\n",
       "<style scoped>\n",
       "    .dataframe tbody tr th:only-of-type {\n",
       "        vertical-align: middle;\n",
       "    }\n",
       "\n",
       "    .dataframe tbody tr th {\n",
       "        vertical-align: top;\n",
       "    }\n",
       "\n",
       "    .dataframe thead th {\n",
       "        text-align: right;\n",
       "    }\n",
       "</style>\n",
       "<table border=\"1\" class=\"dataframe\">\n",
       "  <thead>\n",
       "    <tr style=\"text-align: right;\">\n",
       "      <th></th>\n",
       "      <th>genre</th>\n",
       "      <th>genre_id</th>\n",
       "    </tr>\n",
       "  </thead>\n",
       "  <tbody>\n",
       "    <tr>\n",
       "      <th>0</th>\n",
       "      <td>unknown</td>\n",
       "      <td>0</td>\n",
       "    </tr>\n",
       "    <tr>\n",
       "      <th>1</th>\n",
       "      <td>Action</td>\n",
       "      <td>1</td>\n",
       "    </tr>\n",
       "    <tr>\n",
       "      <th>2</th>\n",
       "      <td>Adventure</td>\n",
       "      <td>2</td>\n",
       "    </tr>\n",
       "    <tr>\n",
       "      <th>3</th>\n",
       "      <td>Animation</td>\n",
       "      <td>3</td>\n",
       "    </tr>\n",
       "    <tr>\n",
       "      <th>4</th>\n",
       "      <td>Children's</td>\n",
       "      <td>4</td>\n",
       "    </tr>\n",
       "  </tbody>\n",
       "</table>\n",
       "</div>"
      ]
     },
     "execution_count": 18,
     "metadata": {},
     "output_type": "execute_result"
    }
   ],
   "execution_count": 18
  },
  {
   "metadata": {},
   "cell_type": "markdown",
   "source": "## Data Splitting",
   "id": "de8149b551b2031d"
  },
  {
   "metadata": {},
   "cell_type": "markdown",
   "source": "### Setup folder and libraries",
   "id": "537967b104fd9e4a"
  },
  {
   "metadata": {
    "ExecuteTime": {
     "end_time": "2025-07-22T10:26:33.270668Z",
     "start_time": "2025-07-22T10:26:33.268128Z"
    }
   },
   "cell_type": "code",
   "source": [
    "from pathlib import Path\n",
    "import pandas as pd\n",
    "\n",
    "# Make sure the curated folder exist\n",
    "os.makedirs(\"../data/curated\", exist_ok=True)"
   ],
   "id": "bfa1a18658c3cebb",
   "outputs": [],
   "execution_count": 19
  },
  {
   "metadata": {},
   "cell_type": "markdown",
   "source": "### Data Split",
   "id": "81e3449d9e8cbcb1"
  },
  {
   "metadata": {
    "ExecuteTime": {
     "end_time": "2025-07-22T10:26:33.768828Z",
     "start_time": "2025-07-22T10:26:33.301667Z"
    }
   },
   "cell_type": "code",
   "source": [
    "def split_per_user(df, test_ratio=0.2, min_ratings=5):\n",
    "    train_rows = []\n",
    "    test_rows = []\n",
    "\n",
    "    for user_id, group in df.groupby(\"user_id\"):\n",
    "        if len(group) < min_ratings:\n",
    "            # Not enough ratings → all go to train\n",
    "            train_rows.extend(group.to_dict(\"records\"))\n",
    "        else:\n",
    "            test_count = max(1, int(len(group) * test_ratio))\n",
    "            test_sample = group.sample(test_count, random_state=42)\n",
    "            train_sample = group.drop(test_sample.index)\n",
    "\n",
    "            test_rows.extend(test_sample.to_dict(\"records\"))\n",
    "            train_rows.extend(train_sample.to_dict(\"records\"))\n",
    "\n",
    "    train_df = pd.DataFrame(train_rows)\n",
    "    test_df = pd.DataFrame(test_rows)\n",
    "    return train_df, test_df\n",
    "\n",
    "# --- Paths ---\n",
    "processed_dir = Path(\"../data/processed\")\n",
    "curated_dir = Path(\"../data/curated\")\n",
    "curated_dir.mkdir(parents=True, exist_ok=True)\n",
    "\n",
    "# --- Load full dataset ---\n",
    "ratings = pd.read_csv(processed_dir / \"ratings.csv\")\n",
    "\n",
    "# --- Perform smart split ---\n",
    "train_df, test_df = split_per_user(ratings, test_ratio=0.2, min_ratings=5)\n",
    "\n",
    "# --- Save ---\n",
    "train_df.to_csv(curated_dir / \"train.csv\", index=False)\n",
    "test_df.to_csv(curated_dir / \"test.csv\", index=False)\n",
    "\n",
    "print(\"Per-user stratified split complete.\")"
   ],
   "id": "e3780c97a03c032",
   "outputs": [
    {
     "name": "stdout",
     "output_type": "stream",
     "text": [
      "✅ Per-user stratified split complete.\n"
     ]
    }
   ],
   "execution_count": 20
  }
 ],
 "metadata": {
  "kernelspec": {
   "display_name": "Python 3",
   "language": "python",
   "name": "python3"
  },
  "language_info": {
   "codemirror_mode": {
    "name": "ipython",
    "version": 2
   },
   "file_extension": ".py",
   "mimetype": "text/x-python",
   "name": "python",
   "nbconvert_exporter": "python",
   "pygments_lexer": "ipython2",
   "version": "2.7.6"
  }
 },
 "nbformat": 4,
 "nbformat_minor": 5
}
