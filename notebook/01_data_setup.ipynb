{
 "cells": [
  {
   "metadata": {},
   "cell_type": "markdown",
   "source": "# Data Loading & Processing (Setup)",
   "id": "ccf7b0c805c5dd31"
  },
  {
   "metadata": {},
   "cell_type": "markdown",
   "source": "## Data Loading",
   "id": "60c24346df783e31"
  },
  {
   "metadata": {},
   "cell_type": "markdown",
   "source": "### Import libraries",
   "id": "7ece64bb721950c3"
  },
  {
   "cell_type": "code",
   "id": "initial_id",
   "metadata": {
    "collapsed": true,
    "ExecuteTime": {
     "end_time": "2025-07-21T14:38:45.772546Z",
     "start_time": "2025-07-21T14:38:45.698361Z"
    }
   },
   "source": [
    "import kagglehub\n",
    "import os\n",
    "import shutil"
   ],
   "outputs": [],
   "execution_count": 1
  },
  {
   "metadata": {},
   "cell_type": "markdown",
   "source": "### Download datasets",
   "id": "7f87d6b0da605a67"
  },
  {
   "metadata": {
    "ExecuteTime": {
     "end_time": "2025-07-21T14:38:46.179564Z",
     "start_time": "2025-07-21T14:38:45.779181Z"
    }
   },
   "cell_type": "code",
   "source": [
    "dest_folder = \"../data/raw\"\n",
    "print(\"Downloading MovieLens 100K from KaggleHub...\")\n",
    "dataset_path = kagglehub.dataset_download(\"prajitdatta/movielens-100k-dataset\")\n",
    "\n",
    "# Go inside the actual dataset folder (usually /.../ml-100k)\n",
    "dataset_subfolder = os.path.join(dataset_path, \"ml-100k\")\n",
    "if not os.path.exists(dataset_subfolder):\n",
    "    raise Exception(f\"Expected 'ml-100k' folder not found in {dataset_path}\")\n",
    "\n",
    "os.makedirs(dest_folder, exist_ok=True)\n",
    "\n",
    "# Copy each file inside ml-100k to dest_folder\n",
    "for filename in os.listdir(dataset_subfolder):\n",
    "    src_file = os.path.join(dataset_subfolder, filename)\n",
    "    dst_file = os.path.join(dest_folder, filename)\n",
    "    shutil.copy2(src_file, dst_file)\n",
    "\n",
    "print(f\"Dataset successfully copied to: {dest_folder}\")"
   ],
   "id": "b61502531812b02a",
   "outputs": [
    {
     "name": "stdout",
     "output_type": "stream",
     "text": [
      "Downloading MovieLens 100K from KaggleHub...\n",
      "Dataset successfully copied to: ../data/raw\n"
     ]
    }
   ],
   "execution_count": 2
  },
  {
   "metadata": {},
   "cell_type": "markdown",
   "source": "## Data Preprocessing",
   "id": "b6f92ac7950c90a7"
  },
  {
   "metadata": {},
   "cell_type": "markdown",
   "source": "### Setup folders and import",
   "id": "e844f27152ddf2e3"
  },
  {
   "metadata": {
    "ExecuteTime": {
     "end_time": "2025-07-21T14:38:46.611575Z",
     "start_time": "2025-07-21T14:38:46.249268Z"
    }
   },
   "cell_type": "code",
   "source": [
    "import pandas as pd\n",
    "\n",
    "# Make sure the processed folder exists\n",
    "os.makedirs(\"../data/processed\", exist_ok=True)"
   ],
   "id": "f69a21d71015c2e6",
   "outputs": [],
   "execution_count": 3
  },
  {
   "metadata": {},
   "cell_type": "markdown",
   "source": "### Convert u.data - item - user - occupation - genres to CSV files",
   "id": "82225fe41fe6fc30"
  },
  {
   "metadata": {
    "ExecuteTime": {
     "end_time": "2025-07-21T14:38:46.697782Z",
     "start_time": "2025-07-21T14:38:46.619696Z"
    }
   },
   "cell_type": "code",
   "source": [
    "ratings = pd.read_csv(\"../data/raw/u.data\", sep='\\t', header=None,\n",
    "                      names=[\"user_id\", \"item_id\", \"rating\", \"timestamp\"])\n",
    "ratings = ratings.drop(columns=[\"timestamp\"])\n",
    "\n",
    "ratings.to_csv(\"../data/processed/ratings.csv\", index=False)\n",
    "ratings.head()\n",
    "\n",
    "movie_columns = [\n",
    "    \"item_id\", \"title\", \"release_date\", \"video_release_date\", \"IMDb_URL\",\n",
    "    \"unknown\", \"Action\", \"Adventure\", \"Animation\", \"Children's\", \"Comedy\",\n",
    "    \"Crime\", \"Documentary\", \"Drama\", \"Fantasy\", \"Film-Noir\", \"Horror\",\n",
    "    \"Musical\", \"Mystery\", \"Romance\", \"Sci-Fi\", \"Thriller\", \"War\", \"Western\"\n",
    "]\n",
    "\n",
    "movies = pd.read_csv(\"../data/raw/u.item\", sep='|', encoding='latin-1', header=None, names=movie_columns)\n",
    "movies.to_csv(\"../data/processed/movies.csv\", index=False)\n",
    "movies.head()\n",
    "\n",
    "users = pd.read_csv(\"../data/raw/u.user\", sep='|', header=None,\n",
    "                    names=[\"user_id\", \"age\", \"gender\", \"occupation\", \"zip_code\"])\n",
    "users.to_csv(\"../data/processed/users.csv\", index=False)\n",
    "users.head()\n",
    "\n",
    "occupations = pd.read_csv(\"../data/raw/u.occupation\", header=None, names=[\"occupation\"])\n",
    "occupations.to_csv(\"../data/processed/occupations.csv\", index=False)\n",
    "occupations.head()\n",
    "\n",
    "genres = pd.read_csv(\"../data/raw/u.genre\", sep='|', header=None, names=[\"genre\", \"genre_id\"])\n",
    "genres.to_csv(\"../data/processed/genres.csv\", index=False)\n",
    "genres.head()"
   ],
   "id": "b3ee8b84c546ba49",
   "outputs": [
    {
     "data": {
      "text/plain": [
       "        genre  genre_id\n",
       "0     unknown         0\n",
       "1      Action         1\n",
       "2   Adventure         2\n",
       "3   Animation         3\n",
       "4  Children's         4"
      ],
      "text/html": [
       "<div>\n",
       "<style scoped>\n",
       "    .dataframe tbody tr th:only-of-type {\n",
       "        vertical-align: middle;\n",
       "    }\n",
       "\n",
       "    .dataframe tbody tr th {\n",
       "        vertical-align: top;\n",
       "    }\n",
       "\n",
       "    .dataframe thead th {\n",
       "        text-align: right;\n",
       "    }\n",
       "</style>\n",
       "<table border=\"1\" class=\"dataframe\">\n",
       "  <thead>\n",
       "    <tr style=\"text-align: right;\">\n",
       "      <th></th>\n",
       "      <th>genre</th>\n",
       "      <th>genre_id</th>\n",
       "    </tr>\n",
       "  </thead>\n",
       "  <tbody>\n",
       "    <tr>\n",
       "      <th>0</th>\n",
       "      <td>unknown</td>\n",
       "      <td>0</td>\n",
       "    </tr>\n",
       "    <tr>\n",
       "      <th>1</th>\n",
       "      <td>Action</td>\n",
       "      <td>1</td>\n",
       "    </tr>\n",
       "    <tr>\n",
       "      <th>2</th>\n",
       "      <td>Adventure</td>\n",
       "      <td>2</td>\n",
       "    </tr>\n",
       "    <tr>\n",
       "      <th>3</th>\n",
       "      <td>Animation</td>\n",
       "      <td>3</td>\n",
       "    </tr>\n",
       "    <tr>\n",
       "      <th>4</th>\n",
       "      <td>Children's</td>\n",
       "      <td>4</td>\n",
       "    </tr>\n",
       "  </tbody>\n",
       "</table>\n",
       "</div>"
      ]
     },
     "execution_count": 4,
     "metadata": {},
     "output_type": "execute_result"
    }
   ],
   "execution_count": 4
  },
  {
   "metadata": {},
   "cell_type": "markdown",
   "source": "## Data Splitting",
   "id": "de8149b551b2031d"
  },
  {
   "metadata": {},
   "cell_type": "markdown",
   "source": "### Setup folder and libraries",
   "id": "537967b104fd9e4a"
  },
  {
   "metadata": {
    "ExecuteTime": {
     "end_time": "2025-07-21T14:38:47.379815Z",
     "start_time": "2025-07-21T14:38:46.712920Z"
    }
   },
   "cell_type": "code",
   "source": [
    "from sklearn.model_selection import train_test_split\n",
    "\n",
    "# Make sure the curated folder exist\n",
    "os.makedirs(\"../data/curated\", exist_ok=True)"
   ],
   "id": "bfa1a18658c3cebb",
   "outputs": [],
   "execution_count": 5
  },
  {
   "metadata": {},
   "cell_type": "markdown",
   "source": "### Data Split",
   "id": "81e3449d9e8cbcb1"
  },
  {
   "metadata": {
    "ExecuteTime": {
     "end_time": "2025-07-21T14:38:47.461529Z",
     "start_time": "2025-07-21T14:38:47.401517Z"
    }
   },
   "cell_type": "code",
   "source": [
    "test_size = 0.2\n",
    "random_state = 42\n",
    "\n",
    "processed_dir = \"../data/processed\"\n",
    "curated_dir = \"../data/curated\"\n",
    "\n",
    "ratings = pd.read_csv(f\"{processed_dir}/ratings.csv\")\n",
    "\n",
    "train, test = train_test_split(ratings, test_size=test_size, random_state=random_state)\n",
    "\n",
    "train.to_csv(f\"{curated_dir}/train.csv\", index=False)\n",
    "test.to_csv(f\"{curated_dir}/test.csv\", index=False)"
   ],
   "id": "e3780c97a03c032",
   "outputs": [],
   "execution_count": 6
  }
 ],
 "metadata": {
  "kernelspec": {
   "display_name": "Python 3",
   "language": "python",
   "name": "python3"
  },
  "language_info": {
   "codemirror_mode": {
    "name": "ipython",
    "version": 2
   },
   "file_extension": ".py",
   "mimetype": "text/x-python",
   "name": "python",
   "nbconvert_exporter": "python",
   "pygments_lexer": "ipython2",
   "version": "2.7.6"
  }
 },
 "nbformat": 4,
 "nbformat_minor": 5
}
